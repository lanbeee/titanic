{
 "cells": [
  {
   "cell_type": "code",
   "execution_count": 1,
   "metadata": {},
   "outputs": [],
   "source": [
    "import pandas as pd\n",
    "import numpy as np\n",
    "import matplotlib.pyplot as plt\n",
    "from collections import Counter\n",
    "from sklearn.ensemble import RandomForestClassifier\n",
    "import seaborn as sns"
   ]
  },
  {
   "cell_type": "code",
   "execution_count": 6,
   "metadata": {},
   "outputs": [],
   "source": [
    "df = pd.read_csv('train.csv')\n",
    "import sklearn"
   ]
  },
  {
   "cell_type": "code",
   "execution_count": 3,
   "metadata": {},
   "outputs": [],
   "source": [
    "from sklearn.model_selection import cross_val_score, GridSearchCV\n",
    "from sklearn.preprocessing import StandardScaler\n",
    "from sklearn.metrics import accuracy_score"
   ]
  },
  {
   "cell_type": "code",
   "execution_count": 162,
   "metadata": {},
   "outputs": [
    {
     "data": {
      "text/plain": [
       "(array([853.,  29.,   6.,   3.]),\n",
       " array([  0.    , 128.0823, 256.1646, 384.2469, 512.3292]),\n",
       " <a list of 4 Patch objects>)"
      ]
     },
     "execution_count": 162,
     "metadata": {},
     "output_type": "execute_result"
    },
    {
     "data": {
      "image/png": "[encoded data removed]",
      "text/plain": [
       "<Figure size 432x288 with 1 Axes>"
      ]
     },
     "metadata": {},
     "output_type": "display_data"
    }
   ],
   "source": [
    "plt.hist(df.Fare, rwidth=0.9 , bins= 4)"
   ]
  },
  {
   "cell_type": "code",
   "execution_count": 29,
   "metadata": {},
   "outputs": [],
   "source": [
    "X_test = pd.read_csv('test.csv')\n",
    "y_train = df['Survived'].copy()\n",
    "X_train = df[['Pclass', 'Sex', 'Age', 'SibSp', 'Parch', 'Fare', 'Cabin', 'Embarked']].copy()\n",
    "X_test = X_test[['Pclass', 'Sex', 'Age', 'SibSp', 'Parch', 'Fare', 'Cabin', 'Embarked']]\n",
    "X_train.Cabin.fillna('Z', inplace= True)\n",
    "X_test.Cabin.fillna('Z', inplace= True)\n",
    "X_train.Embarked.fillna('S', inplace = True)\n",
    "X_train['Embarked'] = X_train['Embarked'].map( {'S': 0, 'C': 1, 'Q': 2} ).astype(int)\n",
    "X_test['Embarked'] = X_test['Embarked'].map( {'S': 0, 'C': 1, 'Q': 2} ).astype(int)\n",
    "X_train.Age.fillna(28.0, inplace= True)\n",
    "X_test.Fare.fillna(X_test.Fare.median(), inplace= True)\n",
    "X_test.Age.fillna(28.0, inplace= True)"
   ]
  },
  {
   "cell_type": "code",
   "execution_count": 30,
   "metadata": {},
   "outputs": [
    {
     "data": {
      "text/html": [
       "<div>\n",
       "<style scoped>\n",
       "    .dataframe tbody tr th:only-of-type {\n",
       "        vertical-align: middle;\n",
       "    }\n",
       "\n",
       "    .dataframe tbody tr th {\n",
       "        vertical-align: top;\n",
       "    }\n",
       "\n",
       "    .dataframe thead th {\n",
       "        text-align: right;\n",
       "    }\n",
       "</style>\n",
       "<table border=\"1\" class=\"dataframe\">\n",
       "  <thead>\n",
       "    <tr style=\"text-align: right;\">\n",
       "      <th></th>\n",
       "      <th>Pclass</th>\n",
       "      <th>Age</th>\n",
       "      <th>SibSp</th>\n",
       "      <th>Parch</th>\n",
       "      <th>Fare</th>\n",
       "      <th>Embarked</th>\n",
       "      <th>C_A</th>\n",
       "      <th>C_B</th>\n",
       "      <th>C_C</th>\n",
       "      <th>C_D</th>\n",
       "      <th>C_E</th>\n",
       "      <th>C_F</th>\n",
       "      <th>female</th>\n",
       "    </tr>\n",
       "  </thead>\n",
       "  <tbody>\n",
       "    <tr>\n",
       "      <th>0</th>\n",
       "      <td>3</td>\n",
       "      <td>1</td>\n",
       "      <td>1</td>\n",
       "      <td>0</td>\n",
       "      <td>0</td>\n",
       "      <td>0</td>\n",
       "      <td>0</td>\n",
       "      <td>0</td>\n",
       "      <td>0</td>\n",
       "      <td>0</td>\n",
       "      <td>0</td>\n",
       "      <td>0</td>\n",
       "      <td>0</td>\n",
       "    </tr>\n",
       "    <tr>\n",
       "      <th>1</th>\n",
       "      <td>1</td>\n",
       "      <td>2</td>\n",
       "      <td>1</td>\n",
       "      <td>0</td>\n",
       "      <td>3</td>\n",
       "      <td>1</td>\n",
       "      <td>0</td>\n",
       "      <td>0</td>\n",
       "      <td>1</td>\n",
       "      <td>0</td>\n",
       "      <td>0</td>\n",
       "      <td>0</td>\n",
       "      <td>1</td>\n",
       "    </tr>\n",
       "    <tr>\n",
       "      <th>2</th>\n",
       "      <td>3</td>\n",
       "      <td>1</td>\n",
       "      <td>0</td>\n",
       "      <td>0</td>\n",
       "      <td>1</td>\n",
       "      <td>0</td>\n",
       "      <td>0</td>\n",
       "      <td>0</td>\n",
       "      <td>0</td>\n",
       "      <td>0</td>\n",
       "      <td>0</td>\n",
       "      <td>0</td>\n",
       "      <td>1</td>\n",
       "    </tr>\n",
       "    <tr>\n",
       "      <th>3</th>\n",
       "      <td>1</td>\n",
       "      <td>2</td>\n",
       "      <td>1</td>\n",
       "      <td>0</td>\n",
       "      <td>3</td>\n",
       "      <td>0</td>\n",
       "      <td>0</td>\n",
       "      <td>0</td>\n",
       "      <td>1</td>\n",
       "      <td>0</td>\n",
       "      <td>0</td>\n",
       "      <td>0</td>\n",
       "      <td>1</td>\n",
       "    </tr>\n",
       "    <tr>\n",
       "      <th>4</th>\n",
       "      <td>3</td>\n",
       "      <td>2</td>\n",
       "      <td>0</td>\n",
       "      <td>0</td>\n",
       "      <td>1</td>\n",
       "      <td>0</td>\n",
       "      <td>0</td>\n",
       "      <td>0</td>\n",
       "      <td>0</td>\n",
       "      <td>0</td>\n",
       "      <td>0</td>\n",
       "      <td>0</td>\n",
       "      <td>0</td>\n",
       "    </tr>\n",
       "  </tbody>\n",
       "</table>\n",
       "</div>"
      ],
      "text/plain": [
       "   Pclass  Age  SibSp  Parch  Fare  Embarked  C_A  C_B  C_C  C_D  C_E  C_F  \\\n",
       "0       3    1      1      0     0         0    0    0    0    0    0    0   \n",
       "1       1    2      1      0     3         1    0    0    1    0    0    0   \n",
       "2       3    1      0      0     1         0    0    0    0    0    0    0   \n",
       "3       1    2      1      0     3         0    0    0    1    0    0    0   \n",
       "4       3    2      0      0     1         0    0    0    0    0    0    0   \n",
       "\n",
       "   female  \n",
       "0       0  \n",
       "1       1  \n",
       "2       1  \n",
       "3       1  \n",
       "4       0  "
      ]
     },
     "execution_count": 30,
     "metadata": {},
     "output_type": "execute_result"
    }
   ],
   "source": [
    "trcb = [i[0] for i in X_train['Cabin']]\n",
    "tscb = [i[0] for i in X_test['Cabin']]\n",
    "trcabdum = pd.get_dummies(trcb)[['A', 'B', 'C', 'D', 'E', 'F']]\n",
    "tscabdum = pd.get_dummies(tscb)[['A', 'B', 'C', 'D', 'E', 'F']]\n",
    "trcabdum.columns = ['C_' + i for i in trcabdum.columns ]\n",
    "tscabdum.columns = ['C_' + i for i in tscabdum.columns ]\n",
    "trse = pd.get_dummies(X_train.Sex)[['female']]\n",
    "tsse = pd.get_dummies(X_test.Sex)[['female']]\n",
    "X_train = pd.concat([X_train,trcabdum,trse], axis= 1)\n",
    "X_test = pd.concat([X_test,tscabdum,tsse], axis= 1)\n",
    "X_train.drop(['Sex','Cabin'], axis=1, inplace= True)\n",
    "X_test.drop(['Sex','Cabin'] , axis=1, inplace= True)\n",
    "X_train['FareBand'] = pd.qcut(X_train['Fare'], 4)\n",
    "combine = [X_train, X_test]\n",
    "for dataset in combine:\n",
    "    dataset.loc[ dataset['Fare'] <= 7.91, 'Fare'] = 0\n",
    "    dataset.loc[(dataset['Fare'] > 7.91) & (dataset['Fare'] <= 14.454), 'Fare'] = 1\n",
    "    dataset.loc[(dataset['Fare'] > 14.454) & (dataset['Fare'] <= 31), 'Fare']   = 2\n",
    "    dataset.loc[ dataset['Fare'] > 31, 'Fare'] = 3\n",
    "    dataset['Fare'] = dataset['Fare'].astype(int)\n",
    "X_train.drop(['FareBand'], axis= 1, inplace= True)\n",
    "for dataset in combine:    \n",
    "    dataset.loc[ dataset['Age'] <= 16, 'Age'] = 0\n",
    "    dataset.loc[(dataset['Age'] > 16) & (dataset['Age'] <= 32), 'Age'] = 1\n",
    "    dataset.loc[(dataset['Age'] > 32) & (dataset['Age'] <= 48), 'Age'] = 2\n",
    "    dataset.loc[(dataset['Age'] > 48) & (dataset['Age'] <= 64), 'Age'] = 3\n",
    "    dataset.loc[ dataset['Age'] > 64, 'Age'] = 4\n",
    "    dataset['Age'] = dataset['Age'].astype(int)\n",
    "X_train.head()"
   ]
  },
  {
   "cell_type": "code",
   "execution_count": 31,
   "metadata": {},
   "outputs": [],
   "source": [
    "fs = []\n",
    "ms = []\n",
    "for i in range(len(X_train)):\n",
    "    if (X_train['female'][i] == 1):\n",
    "        ms.append(0)\n",
    "        if y_train[i] == 1:\n",
    "            fs.append(1)\n",
    "        else:\n",
    "            fs.append(0)\n",
    "    else:\n",
    "        fs.append(0)\n",
    "        if y_train[i] == 1:\n",
    "            ms.append(1)\n",
    "        else:\n",
    "            ms.append(0)\n",
    "aa = pd.concat([X_train,y_train,pd.Series(trcb , name='Cabin2'),\n",
    "                pd.Series(fs , name='femsur'),\n",
    "               pd.Series(ms , name='malsur')],axis= 1)\n",
    "aa.replace({'Cabin2' : { 'G' : 'Z', 'T' : 'Z' }}, inplace= True)"
   ]
  },
  {
   "cell_type": "code",
   "execution_count": 22,
   "metadata": {},
   "outputs": [
    {
     "data": {
      "text/html": [
       "<div>\n",
       "<style scoped>\n",
       "    .dataframe tbody tr th:only-of-type {\n",
       "        vertical-align: middle;\n",
       "    }\n",
       "\n",
       "    .dataframe tbody tr th {\n",
       "        vertical-align: top;\n",
       "    }\n",
       "\n",
       "    .dataframe thead th {\n",
       "        text-align: right;\n",
       "    }\n",
       "</style>\n",
       "<table border=\"1\" class=\"dataframe\">\n",
       "  <thead>\n",
       "    <tr style=\"text-align: right;\">\n",
       "      <th></th>\n",
       "      <th>Pclass</th>\n",
       "      <th>Age</th>\n",
       "      <th>SibSp</th>\n",
       "      <th>Parch</th>\n",
       "      <th>Fare</th>\n",
       "      <th>Embarked</th>\n",
       "      <th>female</th>\n",
       "      <th>C_ABDF</th>\n",
       "      <th>C_EC</th>\n",
       "      <th>oreone</th>\n",
       "      <th>oretwo</th>\n",
       "    </tr>\n",
       "  </thead>\n",
       "  <tbody>\n",
       "    <tr>\n",
       "      <th>0</th>\n",
       "      <td>3</td>\n",
       "      <td>22.0</td>\n",
       "      <td>1</td>\n",
       "      <td>0</td>\n",
       "      <td>0</td>\n",
       "      <td>0</td>\n",
       "      <td>0</td>\n",
       "      <td>0</td>\n",
       "      <td>0</td>\n",
       "      <td>0</td>\n",
       "      <td>0</td>\n",
       "    </tr>\n",
       "    <tr>\n",
       "      <th>1</th>\n",
       "      <td>1</td>\n",
       "      <td>38.0</td>\n",
       "      <td>1</td>\n",
       "      <td>0</td>\n",
       "      <td>3</td>\n",
       "      <td>1</td>\n",
       "      <td>1</td>\n",
       "      <td>0</td>\n",
       "      <td>1</td>\n",
       "      <td>0</td>\n",
       "      <td>1</td>\n",
       "    </tr>\n",
       "    <tr>\n",
       "      <th>2</th>\n",
       "      <td>3</td>\n",
       "      <td>26.0</td>\n",
       "      <td>0</td>\n",
       "      <td>0</td>\n",
       "      <td>1</td>\n",
       "      <td>0</td>\n",
       "      <td>1</td>\n",
       "      <td>0</td>\n",
       "      <td>0</td>\n",
       "      <td>0</td>\n",
       "      <td>0</td>\n",
       "    </tr>\n",
       "    <tr>\n",
       "      <th>3</th>\n",
       "      <td>1</td>\n",
       "      <td>35.0</td>\n",
       "      <td>1</td>\n",
       "      <td>0</td>\n",
       "      <td>3</td>\n",
       "      <td>0</td>\n",
       "      <td>1</td>\n",
       "      <td>0</td>\n",
       "      <td>1</td>\n",
       "      <td>0</td>\n",
       "      <td>1</td>\n",
       "    </tr>\n",
       "    <tr>\n",
       "      <th>4</th>\n",
       "      <td>3</td>\n",
       "      <td>35.0</td>\n",
       "      <td>0</td>\n",
       "      <td>0</td>\n",
       "      <td>1</td>\n",
       "      <td>0</td>\n",
       "      <td>0</td>\n",
       "      <td>0</td>\n",
       "      <td>0</td>\n",
       "      <td>0</td>\n",
       "      <td>0</td>\n",
       "    </tr>\n",
       "  </tbody>\n",
       "</table>\n",
       "</div>"
      ],
      "text/plain": [
       "   Pclass   Age  SibSp  Parch  Fare  Embarked  female  C_ABDF  C_EC  oreone  \\\n",
       "0       3  22.0      1      0     0         0       0       0     0       0   \n",
       "1       1  38.0      1      0     3         1       1       0     1       0   \n",
       "2       3  26.0      0      0     1         0       1       0     0       0   \n",
       "3       1  35.0      1      0     3         0       1       0     1       0   \n",
       "4       3  35.0      0      0     1         0       0       0     0       0   \n",
       "\n",
       "   oretwo  \n",
       "0       0  \n",
       "1       1  \n",
       "2       0  \n",
       "3       1  \n",
       "4       0  "
      ]
     },
     "execution_count": 22,
     "metadata": {},
     "output_type": "execute_result"
    }
   ],
   "source": [
    "X_train.head()"
   ]
  },
  {
   "cell_type": "code",
   "execution_count": 32,
   "metadata": {},
   "outputs": [],
   "source": [
    "\n",
    "# sns.heatmap(abs(aa.corr()))\n",
    "ab = aa[['Cabin2', 'Survived','female','femsur','malsur']].groupby(['Cabin2'],\n",
    "                                                                   as_index=False).mean()\n",
    "ac = pd.DataFrame([list(Counter(aa.Cabin2).values()),\n",
    "                   list(Counter(aa.Cabin2).keys())]).T.sort_values(1).reset_index()\n",
    "ad = pd.concat([ab,ac[0]],axis= 1)\n",
    "ad.columns = ['Cabin2', 'Survived', 'female', 'femsur', 'malsur', 'coun']\n",
    "ad['femrate'] = (ad.femsur * ad.coun) /(ad.female * ad.coun)\n",
    "ad['malrate'] = (ad.malsur * ad.coun) /((1-ad.female) * ad.coun)"
   ]
  },
  {
   "cell_type": "code",
   "execution_count": 136,
   "metadata": {},
   "outputs": [
    {
     "data": {
      "text/html": [
       "<div>\n",
       "<style scoped>\n",
       "    .dataframe tbody tr th:only-of-type {\n",
       "        vertical-align: middle;\n",
       "    }\n",
       "\n",
       "    .dataframe tbody tr th {\n",
       "        vertical-align: top;\n",
       "    }\n",
       "\n",
       "    .dataframe thead th {\n",
       "        text-align: right;\n",
       "    }\n",
       "</style>\n",
       "<table border=\"1\" class=\"dataframe\">\n",
       "  <thead>\n",
       "    <tr style=\"text-align: right;\">\n",
       "      <th></th>\n",
       "      <th>Cabin2</th>\n",
       "      <th>Survived</th>\n",
       "      <th>female</th>\n",
       "      <th>femsur</th>\n",
       "      <th>malsur</th>\n",
       "      <th>coun</th>\n",
       "      <th>femrate</th>\n",
       "      <th>malrate</th>\n",
       "    </tr>\n",
       "  </thead>\n",
       "  <tbody>\n",
       "    <tr>\n",
       "      <th>0</th>\n",
       "      <td>A</td>\n",
       "      <td>0.466667</td>\n",
       "      <td>0.066667</td>\n",
       "      <td>0.066667</td>\n",
       "      <td>0.400000</td>\n",
       "      <td>15</td>\n",
       "      <td>1</td>\n",
       "      <td>0.428571</td>\n",
       "    </tr>\n",
       "    <tr>\n",
       "      <th>1</th>\n",
       "      <td>B</td>\n",
       "      <td>0.744681</td>\n",
       "      <td>0.574468</td>\n",
       "      <td>0.574468</td>\n",
       "      <td>0.170213</td>\n",
       "      <td>47</td>\n",
       "      <td>1</td>\n",
       "      <td>0.4</td>\n",
       "    </tr>\n",
       "    <tr>\n",
       "      <th>2</th>\n",
       "      <td>C</td>\n",
       "      <td>0.593220</td>\n",
       "      <td>0.457627</td>\n",
       "      <td>0.406780</td>\n",
       "      <td>0.186441</td>\n",
       "      <td>59</td>\n",
       "      <td>0.888889</td>\n",
       "      <td>0.34375</td>\n",
       "    </tr>\n",
       "    <tr>\n",
       "      <th>3</th>\n",
       "      <td>D</td>\n",
       "      <td>0.757576</td>\n",
       "      <td>0.545455</td>\n",
       "      <td>0.545455</td>\n",
       "      <td>0.212121</td>\n",
       "      <td>33</td>\n",
       "      <td>1</td>\n",
       "      <td>0.466667</td>\n",
       "    </tr>\n",
       "    <tr>\n",
       "      <th>4</th>\n",
       "      <td>E</td>\n",
       "      <td>0.750000</td>\n",
       "      <td>0.468750</td>\n",
       "      <td>0.437500</td>\n",
       "      <td>0.312500</td>\n",
       "      <td>32</td>\n",
       "      <td>0.933333</td>\n",
       "      <td>0.588235</td>\n",
       "    </tr>\n",
       "    <tr>\n",
       "      <th>5</th>\n",
       "      <td>F</td>\n",
       "      <td>0.615385</td>\n",
       "      <td>0.384615</td>\n",
       "      <td>0.384615</td>\n",
       "      <td>0.230769</td>\n",
       "      <td>13</td>\n",
       "      <td>1</td>\n",
       "      <td>0.375</td>\n",
       "    </tr>\n",
       "    <tr>\n",
       "      <th>6</th>\n",
       "      <td>Z</td>\n",
       "      <td>0.300578</td>\n",
       "      <td>0.319364</td>\n",
       "      <td>0.208092</td>\n",
       "      <td>0.092486</td>\n",
       "      <td>692</td>\n",
       "      <td>0.651584</td>\n",
       "      <td>0.135881</td>\n",
       "    </tr>\n",
       "  </tbody>\n",
       "</table>\n",
       "</div>"
      ],
      "text/plain": [
       "  Cabin2  Survived    female    femsur    malsur coun   femrate   malrate\n",
       "0      A  0.466667  0.066667  0.066667  0.400000   15         1  0.428571\n",
       "1      B  0.744681  0.574468  0.574468  0.170213   47         1       0.4\n",
       "2      C  0.593220  0.457627  0.406780  0.186441   59  0.888889   0.34375\n",
       "3      D  0.757576  0.545455  0.545455  0.212121   33         1  0.466667\n",
       "4      E  0.750000  0.468750  0.437500  0.312500   32  0.933333  0.588235\n",
       "5      F  0.615385  0.384615  0.384615  0.230769   13         1     0.375\n",
       "6      Z  0.300578  0.319364  0.208092  0.092486  692  0.651584  0.135881"
      ]
     },
     "execution_count": 136,
     "metadata": {},
     "output_type": "execute_result"
    }
   ],
   "source": [
    "ad"
   ]
  },
  {
   "cell_type": "code",
   "execution_count": 33,
   "metadata": {},
   "outputs": [],
   "source": [
    "aa['C_ABDF'] = aa['C_A'] + aa['C_B'] + aa['C_D'] + aa['C_F']\n",
    "X_train['C_ABDF'] = X_train['C_A'] + X_train['C_B'] + X_train['C_D'] + X_train['C_F']\n",
    "X_test['C_ABDF'] = X_test['C_A'] + X_test['C_B'] + X_test['C_D'] + X_test['C_F']\n",
    "aa['C_EC'] = aa['C_E'] + aa['C_C']\n",
    "aa['oreone'] = aa['C_ABDF']*aa['female']\n",
    "X_train['C_EC'] = X_train['C_E'] + X_train['C_C']\n",
    "X_test['C_EC'] = X_test['C_E'] + X_test['C_C']\n",
    "X_train.drop(['C_A','C_B','C_C', 'C_D','C_E','C_F'], axis=1, inplace= True)\n",
    "X_test.drop(['C_A','C_B','C_C', 'C_D','C_E','C_F'], axis=1, inplace= True)\n",
    "X_train['oreone'] = X_train['C_ABDF']*X_train['female']\n",
    "X_test['oreone'] = X_test['C_ABDF']*X_test['female']"
   ]
  },
  {
   "cell_type": "code",
   "execution_count": 34,
   "metadata": {},
   "outputs": [],
   "source": [
    "X_train['oretwo'] = X_train['C_EC']*X_train['female']\n",
    "X_test['oretwo'] = X_test['C_EC']*X_test['female']"
   ]
  },
  {
   "cell_type": "code",
   "execution_count": 35,
   "metadata": {},
   "outputs": [
    {
     "data": {
      "text/html": [
       "<div>\n",
       "<style scoped>\n",
       "    .dataframe tbody tr th:only-of-type {\n",
       "        vertical-align: middle;\n",
       "    }\n",
       "\n",
       "    .dataframe tbody tr th {\n",
       "        vertical-align: top;\n",
       "    }\n",
       "\n",
       "    .dataframe thead th {\n",
       "        text-align: right;\n",
       "    }\n",
       "</style>\n",
       "<table border=\"1\" class=\"dataframe\">\n",
       "  <thead>\n",
       "    <tr style=\"text-align: right;\">\n",
       "      <th></th>\n",
       "      <th>Pclass</th>\n",
       "      <th>Age</th>\n",
       "      <th>SibSp</th>\n",
       "      <th>Parch</th>\n",
       "      <th>Fare</th>\n",
       "      <th>Embarked</th>\n",
       "      <th>female</th>\n",
       "      <th>C_ABDF</th>\n",
       "      <th>C_EC</th>\n",
       "      <th>oreone</th>\n",
       "      <th>oretwo</th>\n",
       "    </tr>\n",
       "  </thead>\n",
       "  <tbody>\n",
       "    <tr>\n",
       "      <th>0</th>\n",
       "      <td>3</td>\n",
       "      <td>1</td>\n",
       "      <td>1</td>\n",
       "      <td>0</td>\n",
       "      <td>0</td>\n",
       "      <td>0</td>\n",
       "      <td>0</td>\n",
       "      <td>0</td>\n",
       "      <td>0</td>\n",
       "      <td>0</td>\n",
       "      <td>0</td>\n",
       "    </tr>\n",
       "    <tr>\n",
       "      <th>1</th>\n",
       "      <td>1</td>\n",
       "      <td>2</td>\n",
       "      <td>1</td>\n",
       "      <td>0</td>\n",
       "      <td>3</td>\n",
       "      <td>1</td>\n",
       "      <td>1</td>\n",
       "      <td>0</td>\n",
       "      <td>1</td>\n",
       "      <td>0</td>\n",
       "      <td>1</td>\n",
       "    </tr>\n",
       "    <tr>\n",
       "      <th>2</th>\n",
       "      <td>3</td>\n",
       "      <td>1</td>\n",
       "      <td>0</td>\n",
       "      <td>0</td>\n",
       "      <td>1</td>\n",
       "      <td>0</td>\n",
       "      <td>1</td>\n",
       "      <td>0</td>\n",
       "      <td>0</td>\n",
       "      <td>0</td>\n",
       "      <td>0</td>\n",
       "    </tr>\n",
       "    <tr>\n",
       "      <th>3</th>\n",
       "      <td>1</td>\n",
       "      <td>2</td>\n",
       "      <td>1</td>\n",
       "      <td>0</td>\n",
       "      <td>3</td>\n",
       "      <td>0</td>\n",
       "      <td>1</td>\n",
       "      <td>0</td>\n",
       "      <td>1</td>\n",
       "      <td>0</td>\n",
       "      <td>1</td>\n",
       "    </tr>\n",
       "    <tr>\n",
       "      <th>4</th>\n",
       "      <td>3</td>\n",
       "      <td>2</td>\n",
       "      <td>0</td>\n",
       "      <td>0</td>\n",
       "      <td>1</td>\n",
       "      <td>0</td>\n",
       "      <td>0</td>\n",
       "      <td>0</td>\n",
       "      <td>0</td>\n",
       "      <td>0</td>\n",
       "      <td>0</td>\n",
       "    </tr>\n",
       "  </tbody>\n",
       "</table>\n",
       "</div>"
      ],
      "text/plain": [
       "   Pclass  Age  SibSp  Parch  Fare  Embarked  female  C_ABDF  C_EC  oreone  \\\n",
       "0       3    1      1      0     0         0       0       0     0       0   \n",
       "1       1    2      1      0     3         1       1       0     1       0   \n",
       "2       3    1      0      0     1         0       1       0     0       0   \n",
       "3       1    2      1      0     3         0       1       0     1       0   \n",
       "4       3    2      0      0     1         0       0       0     0       0   \n",
       "\n",
       "   oretwo  \n",
       "0       0  \n",
       "1       1  \n",
       "2       0  \n",
       "3       1  \n",
       "4       0  "
      ]
     },
     "execution_count": 35,
     "metadata": {},
     "output_type": "execute_result"
    }
   ],
   "source": [
    "X_train.head()"
   ]
  },
  {
   "cell_type": "code",
   "execution_count": 18,
   "metadata": {},
   "outputs": [
    {
     "data": {
      "text/html": [
       "<div>\n",
       "<style scoped>\n",
       "    .dataframe tbody tr th:only-of-type {\n",
       "        vertical-align: middle;\n",
       "    }\n",
       "\n",
       "    .dataframe tbody tr th {\n",
       "        vertical-align: top;\n",
       "    }\n",
       "\n",
       "    .dataframe thead th {\n",
       "        text-align: right;\n",
       "    }\n",
       "</style>\n",
       "<table border=\"1\" class=\"dataframe\">\n",
       "  <thead>\n",
       "    <tr style=\"text-align: right;\">\n",
       "      <th></th>\n",
       "      <th>Pclass</th>\n",
       "      <th>Age</th>\n",
       "      <th>SibSp</th>\n",
       "      <th>Parch</th>\n",
       "      <th>Fare</th>\n",
       "      <th>Embarked</th>\n",
       "      <th>female</th>\n",
       "      <th>C_ABDF</th>\n",
       "      <th>C_EC</th>\n",
       "      <th>oreone</th>\n",
       "      <th>oretwo</th>\n",
       "    </tr>\n",
       "  </thead>\n",
       "  <tbody>\n",
       "    <tr>\n",
       "      <th>0</th>\n",
       "      <td>3</td>\n",
       "      <td>34.5</td>\n",
       "      <td>0</td>\n",
       "      <td>0</td>\n",
       "      <td>0</td>\n",
       "      <td>2</td>\n",
       "      <td>0</td>\n",
       "      <td>0</td>\n",
       "      <td>0</td>\n",
       "      <td>0</td>\n",
       "      <td>0</td>\n",
       "    </tr>\n",
       "    <tr>\n",
       "      <th>1</th>\n",
       "      <td>3</td>\n",
       "      <td>47.0</td>\n",
       "      <td>1</td>\n",
       "      <td>0</td>\n",
       "      <td>0</td>\n",
       "      <td>0</td>\n",
       "      <td>1</td>\n",
       "      <td>0</td>\n",
       "      <td>0</td>\n",
       "      <td>0</td>\n",
       "      <td>0</td>\n",
       "    </tr>\n",
       "    <tr>\n",
       "      <th>2</th>\n",
       "      <td>2</td>\n",
       "      <td>62.0</td>\n",
       "      <td>0</td>\n",
       "      <td>0</td>\n",
       "      <td>1</td>\n",
       "      <td>2</td>\n",
       "      <td>0</td>\n",
       "      <td>0</td>\n",
       "      <td>0</td>\n",
       "      <td>0</td>\n",
       "      <td>0</td>\n",
       "    </tr>\n",
       "    <tr>\n",
       "      <th>3</th>\n",
       "      <td>3</td>\n",
       "      <td>27.0</td>\n",
       "      <td>0</td>\n",
       "      <td>0</td>\n",
       "      <td>1</td>\n",
       "      <td>0</td>\n",
       "      <td>0</td>\n",
       "      <td>0</td>\n",
       "      <td>0</td>\n",
       "      <td>0</td>\n",
       "      <td>0</td>\n",
       "    </tr>\n",
       "    <tr>\n",
       "      <th>4</th>\n",
       "      <td>3</td>\n",
       "      <td>22.0</td>\n",
       "      <td>1</td>\n",
       "      <td>1</td>\n",
       "      <td>1</td>\n",
       "      <td>0</td>\n",
       "      <td>1</td>\n",
       "      <td>0</td>\n",
       "      <td>0</td>\n",
       "      <td>0</td>\n",
       "      <td>0</td>\n",
       "    </tr>\n",
       "  </tbody>\n",
       "</table>\n",
       "</div>"
      ],
      "text/plain": [
       "   Pclass   Age  SibSp  Parch  Fare  Embarked  female  C_ABDF  C_EC  oreone  \\\n",
       "0       3  34.5      0      0     0         2       0       0     0       0   \n",
       "1       3  47.0      1      0     0         0       1       0     0       0   \n",
       "2       2  62.0      0      0     1         2       0       0     0       0   \n",
       "3       3  27.0      0      0     1         0       0       0     0       0   \n",
       "4       3  22.0      1      1     1         0       1       0     0       0   \n",
       "\n",
       "   oretwo  \n",
       "0       0  \n",
       "1       0  \n",
       "2       0  \n",
       "3       0  \n",
       "4       0  "
      ]
     },
     "execution_count": 18,
     "metadata": {},
     "output_type": "execute_result"
    }
   ],
   "source": [
    "X_test.head()"
   ]
  },
  {
   "cell_type": "code",
   "execution_count": 144,
   "metadata": {},
   "outputs": [
    {
     "data": {
      "text/plain": [
       "<matplotlib.axes._subplots.AxesSubplot at 0x220d32fc9b0>"
      ]
     },
     "execution_count": 144,
     "metadata": {},
     "output_type": "execute_result"
    },
    {
     "data": {
      "image/png": "[encoded data removed]",
      "text/plain": [
       "<Figure size 432x288 with 2 Axes>"
      ]
     },
     "metadata": {},
     "output_type": "display_data"
    }
   ],
   "source": [
    "sns.heatmap(abs(aa.corr()))"
   ]
  },
  {
   "cell_type": "code",
   "execution_count": 146,
   "metadata": {},
   "outputs": [],
   "source": [
    "stsc = StandardScaler()\n",
    "stsc.fit(X_train)\n",
    "X_trainsc = stsc.transform(X_train)\n",
    "X_testsc = stsc.transform(X_test)"
   ]
  },
  {
   "cell_type": "code",
   "execution_count": 147,
   "metadata": {},
   "outputs": [
    {
     "data": {
      "text/plain": [
       "GridSearchCV(cv=4, error_score='raise',\n",
       "       estimator=RandomForestClassifier(bootstrap=True, class_weight=None, criterion='gini',\n",
       "            max_depth=None, max_features='auto', max_leaf_nodes=None,\n",
       "            min_impurity_decrease=0.0, min_impurity_split=None,\n",
       "            min_samples_leaf=1, min_samples_split=2,\n",
       "            min_weight_fraction_leaf=0.0, n_estimators=10, n_jobs=1,\n",
       "            oob_score=False, random_state=None, verbose=0,\n",
       "            warm_start=False),\n",
       "       fit_params=None, iid=True, n_jobs=1,\n",
       "       param_grid=[{'n_estimators': [50, 100, 200], 'max_depth': [2, 5, None], 'max_features': [12, 11, 10]}],\n",
       "       pre_dispatch='2*n_jobs', refit=True, return_train_score='warn',\n",
       "       scoring='roc_auc', verbose=0)"
      ]
     },
     "execution_count": 147,
     "metadata": {},
     "output_type": "execute_result"
    }
   ],
   "source": [
    "clf = RandomForestClassifier()\n",
    "param_grid = [{'n_estimators':[50,100,200], 'max_depth':[2,5, None], 'max_features':[12,11, 10]}]\n",
    "gs = GridSearchCV(clf, param_grid, cv = 4, scoring= 'roc_auc')\n",
    "gs.fit(X_trainsc,y_train)"
   ]
  },
  {
   "cell_type": "code",
   "execution_count": 154,
   "metadata": {},
   "outputs": [
    {
     "name": "stdout",
     "output_type": "stream",
     "text": [
      "{'max_depth': 5, 'max_features': 11, 'n_estimators': 100} 0.8702426827235314\n"
     ]
    },
    {
     "data": {
      "text/plain": [
       "array([0.80357143, 0.86098655, 0.80630631, 0.84234234])"
      ]
     },
     "execution_count": 154,
     "metadata": {},
     "output_type": "execute_result"
    }
   ],
   "source": [
    "print(gs.best_params_,gs.best_score_)\n",
    "cross_val_score(clf2, X_trainsc, y_train, cv = 4)"
   ]
  },
  {
   "cell_type": "code",
   "execution_count": 36,
   "metadata": {},
   "outputs": [
    {
     "data": {
      "text/plain": [
       "0.8648492485090005"
      ]
     },
     "execution_count": 36,
     "metadata": {},
     "output_type": "execute_result"
    }
   ],
   "source": [
    "clf2 = RandomForestClassifier()\n",
    "param_grid2 = [{'n_estimators':[70,100,150], 'max_depth':[3,4,5, None], 'max_features':[10,9,11]}]\n",
    "gs2 = GridSearchCV(clf2, param_grid2, cv = 4, scoring= 'roc_auc')\n",
    "gs2.fit(X_train,y_train)\n",
    "gs2.best_score_"
   ]
  },
  {
   "cell_type": "code",
   "execution_count": 37,
   "metadata": {},
   "outputs": [
    {
     "data": {
      "text/plain": [
       "{'max_depth': 5, 'max_features': 9, 'n_estimators': 100}"
      ]
     },
     "execution_count": 37,
     "metadata": {},
     "output_type": "execute_result"
    }
   ],
   "source": [
    "gs2.best_params_"
   ]
  },
  {
   "cell_type": "code",
   "execution_count": 153,
   "metadata": {},
   "outputs": [
    {
     "data": {
      "text/plain": [
       "array([0.79017857, 0.85201794, 0.81081081, 0.82882883])"
      ]
     },
     "execution_count": 153,
     "metadata": {},
     "output_type": "execute_result"
    }
   ],
   "source": [
    "clf2 = RandomForestClassifier(max_depth= 5, max_features= 12, n_estimators= 70)\n",
    "cross_val_score(clf2, X_train, y_train, cv = 4)"
   ]
  },
  {
   "cell_type": "code",
   "execution_count": 44,
   "metadata": {},
   "outputs": [],
   "source": [
    "X_train2 = X_train[['Pclass', 'Age', 'SibSp', 'Parch', 'Fare', 'S', 'C', 'female']]\n",
    "X_test2 = X_test[['Pclass', 'Age', 'SibSp', 'Parch', 'Fare', 'S', 'C', 'female']]\n",
    "X_train2sc = (X_train2 - X_train2.mean())/(X_train2.std())\n",
    "X_test2sc = (X_test2 - X_train2.mean())/(X_train2.std())"
   ]
  },
  {
   "cell_type": "code",
   "execution_count": 27,
   "metadata": {},
   "outputs": [
    {
     "name": "stdout",
     "output_type": "stream",
     "text": [
      "0.8687136170422526 {'max_depth': 5, 'max_features': 8, 'n_estimators': 70}\n"
     ]
    }
   ],
   "source": [
    "clf3 = RandomForestClassifier()\n",
    "param_grid3 = [{'n_estimators':[60,70,90], 'max_depth':[4,5,6, None], 'max_features':[8, 7]}]\n",
    "gs3 = GridSearchCV(clf3, param_grid3, cv = 4, scoring= 'roc_auc')\n",
    "gs3.fit(X_train2,y_train)\n",
    "print(gs3.best_score_,gs3.best_params_)"
   ]
  },
  {
   "cell_type": "code",
   "execution_count": 28,
   "metadata": {},
   "outputs": [
    {
     "data": {
      "text/plain": [
       "array([0.80803571, 0.85201794, 0.80630631, 0.83783784])"
      ]
     },
     "execution_count": 28,
     "metadata": {},
     "output_type": "execute_result"
    }
   ],
   "source": [
    "clf3 = RandomForestClassifier(max_depth= 5, max_features= 8, n_estimators= 70)\n",
    "cross_val_score(clf3, X_train2, y_train, cv = 4)"
   ]
  },
  {
   "cell_type": "code",
   "execution_count": 45,
   "metadata": {},
   "outputs": [
    {
     "name": "stdout",
     "output_type": "stream",
     "text": [
      "0.8705698031837374 {'max_depth': 6, 'max_features': 7, 'n_estimators': 60}\n"
     ]
    }
   ],
   "source": [
    "clf4 = RandomForestClassifier()\n",
    "param_grid4 = [{'n_estimators':[60,70,90], 'max_depth':[4,5,6, None], 'max_features':[8, 7]}]\n",
    "gs4 = GridSearchCV(clf4, param_grid4, cv = 4, scoring= 'roc_auc')\n",
    "gs4.fit(X_train2sc,y_train)\n",
    "print(gs4.best_score_,gs4.best_params_)"
   ]
  },
  {
   "cell_type": "code",
   "execution_count": 46,
   "metadata": {},
   "outputs": [
    {
     "data": {
      "text/plain": [
       "array([0.80357143, 0.83408072, 0.81531532, 0.83783784])"
      ]
     },
     "execution_count": 46,
     "metadata": {},
     "output_type": "execute_result"
    }
   ],
   "source": [
    "cross_val_score(gs4.best_estimator_, X_train2sc, y_train , cv =4)"
   ]
  },
  {
   "cell_type": "code",
   "execution_count": 58,
   "metadata": {},
   "outputs": [],
   "source": [
    "pred1 = pd.concat([pd.Series(np.arange(892,1310)),pd.Series(gs.best_estimator_.predict(X_testsc))], axis=1)\n",
    "pred1.columns = ['PassengerId','Survived']\n",
    "pred1.to_csv('pred1.csv',index=False)\n",
    "pred2 = pd.concat([pd.Series(np.arange(892,1310)),pd.Series(gs2.best_estimator_.predict(X_test))], axis=1)\n",
    "pred2.columns = ['PassengerId','Survived']\n",
    "pred2.to_csv('pred2.csv',index=False)\n",
    "pred3 = pd.concat([pd.Series(np.arange(892,1310)),pd.Series(gs3.best_estimator_.predict(X_test2))], axis=1)\n",
    "pred3.columns = ['PassengerId','Survived']\n",
    "pred3.to_csv('pred3.csv',index=False)\n",
    "pred4 = pd.concat([pd.Series(np.arange(892,1310)),pd.Series(gs4.best_estimator_.predict(X_test2sc))], axis=1)\n",
    "pred4.columns = ['PassengerId','Survived']\n",
    "pred4.to_csv('pred4.csv',index=False)"
   ]
  },
  {
   "cell_type": "code",
   "execution_count": 57,
   "metadata": {},
   "outputs": [
    {
     "data": {
      "text/plain": [
       "418"
      ]
     },
     "execution_count": 57,
     "metadata": {},
     "output_type": "execute_result"
    }
   ],
   "source": [
    "len(X_testsc)"
   ]
  },
  {
   "cell_type": "code",
   "execution_count": 38,
   "metadata": {},
   "outputs": [],
   "source": [
    "pred2 = pd.concat([pd.Series(np.arange(892,1310)),pd.Series(gs2.best_estimator_.predict(X_test))], axis=1)\n",
    "pred2.columns = ['PassengerId','Survived']\n",
    "pred2.to_csv('pred6.csv',index=False)"
   ]
  }
 ],
 "metadata": {
  "kernelspec": {
   "display_name": "Python 3",
   "language": "python",
   "name": "python3"
  },
  "language_info": {
   "codemirror_mode": {
    "name": "ipython",
    "version": 3
   },
   "file_extension": ".py",
   "mimetype": "text/x-python",
   "name": "python",
   "nbconvert_exporter": "python",
   "pygments_lexer": "ipython3",
   "version": "3.6.5"
  }
 },
 "nbformat": 4,
 "nbformat_minor": 2
}
